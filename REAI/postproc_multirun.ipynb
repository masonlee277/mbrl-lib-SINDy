{
 "cells": [
  {
   "cell_type": "code",
   "execution_count": 12,
   "metadata": {},
   "outputs": [
    {
     "name": "stdout",
     "output_type": "stream",
     "text": [
      "Error loading multirun/2023-05-04/04-46-01/0/rewards.csv: malformed node or string: <ast.Subscript object at 0x7f0006a426a0>\n",
      "Error loading multirun/2023-05-04/04-46-01/1/rewards.csv: malformed node or string: <ast.Subscript object at 0x7f0004d0d6a0>\n",
      "Error loading multirun/2023-05-04/12-06-58/0/rewards.csv: malformed node or string: <ast.Subscript object at 0x7f0006a422b0>\n",
      "Error loading multirun/2023-05-04/12-06-58/1/rewards.csv: malformed node or string: <ast.Subscript object at 0x7f0004d0d640>\n",
      "Error loading multirun/2023-05-04/12-07-05/0/rewards.csv: malformed node or string: <ast.Subscript object at 0x7f0006a422e0>\n",
      "Error loading multirun/2023-05-04/12-07-05/2/rewards.csv: malformed node or string: <ast.Subscript object at 0x7f0004d0d100>\n",
      "Error loading multirun/2023-05-04/12-07-05/1/rewards.csv: malformed node or string: <ast.Subscript object at 0x7f0004d0d940>\n",
      "Error loading multirun/2023-05-04/12-07-08/0/rewards.csv: malformed node or string: <ast.Subscript object at 0x7f0004d0d520>\n",
      "Error loading multirun/2023-05-04/12-07-08/2/rewards.csv: malformed node or string: <ast.Subscript object at 0x7f0004d0d0a0>\n",
      "Error loading multirun/2023-05-04/12-07-08/1/rewards.csv: malformed node or string: <ast.Subscript object at 0x7f0004ce0820>\n",
      "Error loading multirun/2023-05-04/12-07-00/0/rewards.csv: malformed node or string: <ast.Subscript object at 0x7f0004ce0ac0>\n",
      "Error loading multirun/2023-05-04/12-07-00/1/rewards.csv: malformed node or string: <ast.Subscript object at 0x7f0004ce00d0>\n",
      "Error loading multirun/2023-05-02/20-11-32/0/rewards.csv: malformed node or string: <ast.Subscript object at 0x7f0004ce0280>\n",
      "Error loading multirun/2023-05-02/20-11-32/1/rewards.csv: malformed node or string: <ast.Subscript object at 0x7f0004cce0a0>\n",
      "Error loading multirun/2023-05-02/19-31-29/0/rewards.csv: malformed node or string: <ast.Subscript object at 0x7f0004ce0970>\n",
      "Error loading multirun/2023-05-03/19-59-35/0/rewards.csv: malformed node or string: <ast.Subscript object at 0x7f0004cce130>\n",
      "Error loading multirun/2023-05-03/19-59-35/1/rewards.csv: malformed node or string: <ast.Subscript object at 0x7f0004cce3d0>\n",
      "Error loading multirun/2023-05-03/18-02-57/0/rewards.csv: malformed node or string: <ast.Subscript object at 0x7f0004d0d100>\n",
      "Error loading multirun/2023-05-03/18-02-57/1/rewards.csv: malformed node or string: <ast.Subscript object at 0x7f0004cce0a0>\n",
      "Error loading multirun/2023-05-03/14-42-33/3/rewards.csv: malformed node or string: <ast.Subscript object at 0x7f0004d0d520>\n",
      "Error loading multirun/2023-05-03/14-42-33/0/rewards.csv: malformed node or string: <ast.Subscript object at 0x7f0004d0d0d0>\n",
      "Error loading multirun/2023-05-03/14-42-33/5/rewards.csv: malformed node or string: <ast.Subscript object at 0x7f0004d0dd60>\n",
      "Error loading multirun/2023-05-03/14-42-33/4/rewards.csv: malformed node or string: <ast.Subscript object at 0x7f0004d0d8b0>\n",
      "Error loading multirun/2023-05-03/14-42-33/2/rewards.csv: malformed node or string: <ast.Subscript object at 0x7f0004d0dd60>\n",
      "Error loading multirun/2023-05-03/14-42-33/7/rewards.csv: malformed node or string: <ast.Subscript object at 0x7f0004ce0400>\n",
      "Error loading multirun/2023-05-03/14-42-33/9/rewards.csv: malformed node or string: <ast.Subscript object at 0x7f0004d0dbe0>\n",
      "Error loading multirun/2023-05-03/14-42-33/6/rewards.csv: malformed node or string: <ast.Subscript object at 0x7f0004ce02e0>\n",
      "Error loading multirun/2023-05-03/14-42-33/8/rewards.csv: malformed node or string: <ast.Subscript object at 0x7f0004ce0a30>\n",
      "Error loading multirun/2023-05-03/14-42-33/1/rewards.csv: malformed node or string: <ast.Subscript object at 0x7f0004ce0b80>\n"
     ]
    },
    {
     "ename": "ValueError",
     "evalue": "No objects to concatenate",
     "output_type": "error",
     "traceback": [
      "\u001b[0;31m---------------------------------------------------------------------------\u001b[0m",
      "\u001b[0;31mValueError\u001b[0m                                Traceback (most recent call last)",
      "Cell \u001b[0;32mIn[12], line 42\u001b[0m\n\u001b[1;32m     39\u001b[0m             df_list\u001b[39m.\u001b[39mappend(df)\n\u001b[1;32m     41\u001b[0m \u001b[39m# concatenate the dataframes into one\u001b[39;00m\n\u001b[0;32m---> 42\u001b[0m result_df \u001b[39m=\u001b[39m pd\u001b[39m.\u001b[39;49mconcat(df_list, ignore_index\u001b[39m=\u001b[39;49m\u001b[39mTrue\u001b[39;49;00m)\n",
      "File \u001b[0;32m~/anaconda3/envs/reai/lib/python3.9/site-packages/pandas/util/_decorators.py:331\u001b[0m, in \u001b[0;36mdeprecate_nonkeyword_arguments.<locals>.decorate.<locals>.wrapper\u001b[0;34m(*args, **kwargs)\u001b[0m\n\u001b[1;32m    325\u001b[0m \u001b[39mif\u001b[39;00m \u001b[39mlen\u001b[39m(args) \u001b[39m>\u001b[39m num_allow_args:\n\u001b[1;32m    326\u001b[0m     warnings\u001b[39m.\u001b[39mwarn(\n\u001b[1;32m    327\u001b[0m         msg\u001b[39m.\u001b[39mformat(arguments\u001b[39m=\u001b[39m_format_argument_list(allow_args)),\n\u001b[1;32m    328\u001b[0m         \u001b[39mFutureWarning\u001b[39;00m,\n\u001b[1;32m    329\u001b[0m         stacklevel\u001b[39m=\u001b[39mfind_stack_level(),\n\u001b[1;32m    330\u001b[0m     )\n\u001b[0;32m--> 331\u001b[0m \u001b[39mreturn\u001b[39;00m func(\u001b[39m*\u001b[39;49margs, \u001b[39m*\u001b[39;49m\u001b[39m*\u001b[39;49mkwargs)\n",
      "File \u001b[0;32m~/anaconda3/envs/reai/lib/python3.9/site-packages/pandas/core/reshape/concat.py:368\u001b[0m, in \u001b[0;36mconcat\u001b[0;34m(objs, axis, join, ignore_index, keys, levels, names, verify_integrity, sort, copy)\u001b[0m\n\u001b[1;32m    146\u001b[0m \u001b[39m@deprecate_nonkeyword_arguments\u001b[39m(version\u001b[39m=\u001b[39m\u001b[39mNone\u001b[39;00m, allowed_args\u001b[39m=\u001b[39m[\u001b[39m\"\u001b[39m\u001b[39mobjs\u001b[39m\u001b[39m\"\u001b[39m])\n\u001b[1;32m    147\u001b[0m \u001b[39mdef\u001b[39;00m \u001b[39mconcat\u001b[39m(\n\u001b[1;32m    148\u001b[0m     objs: Iterable[NDFrame] \u001b[39m|\u001b[39m Mapping[HashableT, NDFrame],\n\u001b[0;32m   (...)\u001b[0m\n\u001b[1;32m    157\u001b[0m     copy: \u001b[39mbool\u001b[39m \u001b[39m=\u001b[39m \u001b[39mTrue\u001b[39;00m,\n\u001b[1;32m    158\u001b[0m ) \u001b[39m-\u001b[39m\u001b[39m>\u001b[39m DataFrame \u001b[39m|\u001b[39m Series:\n\u001b[1;32m    159\u001b[0m     \u001b[39m\"\"\"\u001b[39;00m\n\u001b[1;32m    160\u001b[0m \u001b[39m    Concatenate pandas objects along a particular axis.\u001b[39;00m\n\u001b[1;32m    161\u001b[0m \n\u001b[0;32m   (...)\u001b[0m\n\u001b[1;32m    366\u001b[0m \u001b[39m    1   3   4\u001b[39;00m\n\u001b[1;32m    367\u001b[0m \u001b[39m    \"\"\"\u001b[39;00m\n\u001b[0;32m--> 368\u001b[0m     op \u001b[39m=\u001b[39m _Concatenator(\n\u001b[1;32m    369\u001b[0m         objs,\n\u001b[1;32m    370\u001b[0m         axis\u001b[39m=\u001b[39;49maxis,\n\u001b[1;32m    371\u001b[0m         ignore_index\u001b[39m=\u001b[39;49mignore_index,\n\u001b[1;32m    372\u001b[0m         join\u001b[39m=\u001b[39;49mjoin,\n\u001b[1;32m    373\u001b[0m         keys\u001b[39m=\u001b[39;49mkeys,\n\u001b[1;32m    374\u001b[0m         levels\u001b[39m=\u001b[39;49mlevels,\n\u001b[1;32m    375\u001b[0m         names\u001b[39m=\u001b[39;49mnames,\n\u001b[1;32m    376\u001b[0m         verify_integrity\u001b[39m=\u001b[39;49mverify_integrity,\n\u001b[1;32m    377\u001b[0m         copy\u001b[39m=\u001b[39;49mcopy,\n\u001b[1;32m    378\u001b[0m         sort\u001b[39m=\u001b[39;49msort,\n\u001b[1;32m    379\u001b[0m     )\n\u001b[1;32m    381\u001b[0m     \u001b[39mreturn\u001b[39;00m op\u001b[39m.\u001b[39mget_result()\n",
      "File \u001b[0;32m~/anaconda3/envs/reai/lib/python3.9/site-packages/pandas/core/reshape/concat.py:425\u001b[0m, in \u001b[0;36m_Concatenator.__init__\u001b[0;34m(self, objs, axis, join, keys, levels, names, ignore_index, verify_integrity, copy, sort)\u001b[0m\n\u001b[1;32m    422\u001b[0m     objs \u001b[39m=\u001b[39m \u001b[39mlist\u001b[39m(objs)\n\u001b[1;32m    424\u001b[0m \u001b[39mif\u001b[39;00m \u001b[39mlen\u001b[39m(objs) \u001b[39m==\u001b[39m \u001b[39m0\u001b[39m:\n\u001b[0;32m--> 425\u001b[0m     \u001b[39mraise\u001b[39;00m \u001b[39mValueError\u001b[39;00m(\u001b[39m\"\u001b[39m\u001b[39mNo objects to concatenate\u001b[39m\u001b[39m\"\u001b[39m)\n\u001b[1;32m    427\u001b[0m \u001b[39mif\u001b[39;00m keys \u001b[39mis\u001b[39;00m \u001b[39mNone\u001b[39;00m:\n\u001b[1;32m    428\u001b[0m     objs \u001b[39m=\u001b[39m \u001b[39mlist\u001b[39m(com\u001b[39m.\u001b[39mnot_none(\u001b[39m*\u001b[39mobjs))\n",
      "\u001b[0;31mValueError\u001b[0m: No objects to concatenate"
     ]
    }
   ],
   "source": [
    "import os\n",
    "import pandas as pd\n",
    "import ast\n",
    "# set the path to the top-level directory containing the multirun folders\n",
    "top_dir = 'multirun/'\n",
    "\n",
    "# define a lambda function to convert the rewards column to a nested list of integers\n",
    "rewards_converter = lambda x: [[int(val) for val in row[1:-1].split()] for row in x.split('\\n') if row]\n",
    "\n",
    "# initialize an empty list to hold the dataframes\n",
    "df_list = []\n",
    "\n",
    "# traverse the directory structure and load the rewards.csv files\n",
    "for date_folder in os.listdir(top_dir):\n",
    "    date_path = os.path.join(top_dir, date_folder)\n",
    "    if not os.path.isdir(date_path):\n",
    "        continue\n",
    "    for time_folder in os.listdir(date_path):\n",
    "        time_path = os.path.join(date_path, time_folder)\n",
    "        if not os.path.isdir(time_path):\n",
    "            continue\n",
    "        for exp_folder in os.listdir(time_path):\n",
    "            exp_path = os.path.join(time_path, exp_folder)\n",
    "            if not os.path.isdir(exp_path):\n",
    "                continue\n",
    "            reward_file = os.path.join(exp_path, 'rewards.csv')\n",
    "            if not os.path.isfile(reward_file):\n",
    "                continue\n",
    "            # load the rewards.csv file and add additional columns\n",
    "            #converters = {'rewards': lambda x: ast.literal_eval(x) if isinstance(x, str) else None}\n",
    "            try:\n",
    "                df = pd.read_csv(reward_file)#, converters=converters)\n",
    "            except Exception as e:\n",
    "                print(f\"Error loading {reward_file}: {e}\")\n",
    "                continue\n",
    "            df['date'] = date_folder\n",
    "            df['time'] = time_folder\n",
    "            df['experiment'] = exp_folder\n",
    "            df_list.append(df)\n",
    "\n",
    "# concatenate the dataframes into one\n",
    "result_df = pd.concat(df_list, ignore_index=True)\n"
   ]
  },
  {
   "cell_type": "code",
   "execution_count": 6,
   "metadata": {},
   "outputs": [
    {
     "data": {
      "text/html": [
       "<div>\n",
       "<style scoped>\n",
       "    .dataframe tbody tr th:only-of-type {\n",
       "        vertical-align: middle;\n",
       "    }\n",
       "\n",
       "    .dataframe tbody tr th {\n",
       "        vertical-align: top;\n",
       "    }\n",
       "\n",
       "    .dataframe thead th {\n",
       "        text-align: right;\n",
       "    }\n",
       "</style>\n",
       "<table border=\"1\" class=\"dataframe\">\n",
       "  <thead>\n",
       "    <tr style=\"text-align: right;\">\n",
       "      <th></th>\n",
       "      <th>optimizer</th>\n",
       "      <th>seed</th>\n",
       "      <th>phys_nn_config</th>\n",
       "      <th>rewards</th>\n",
       "      <th>date</th>\n",
       "      <th>time</th>\n",
       "      <th>experiment</th>\n",
       "    </tr>\n",
       "  </thead>\n",
       "  <tbody>\n",
       "    <tr>\n",
       "      <th>0</th>\n",
       "      <td>CEM</td>\n",
       "      <td>1</td>\n",
       "      <td>0</td>\n",
       "      <td>[[  0.]\\n [120.]\\n [200.]\\n [200.]\\n [200.]\\n ...</td>\n",
       "      <td>2023-05-03</td>\n",
       "      <td>14-42-33</td>\n",
       "      <td>1</td>\n",
       "    </tr>\n",
       "  </tbody>\n",
       "</table>\n",
       "</div>"
      ],
      "text/plain": [
       "  optimizer  seed  phys_nn_config  \\\n",
       "0       CEM     1               0   \n",
       "\n",
       "                                             rewards        date      time  \\\n",
       "0  [[  0.]\\n [120.]\\n [200.]\\n [200.]\\n [200.]\\n ...  2023-05-03  14-42-33   \n",
       "\n",
       "  experiment  \n",
       "0          1  "
      ]
     },
     "execution_count": 6,
     "metadata": {},
     "output_type": "execute_result"
    }
   ],
   "source": [
    "df"
   ]
  },
  {
   "cell_type": "code",
   "execution_count": null,
   "metadata": {},
   "outputs": [],
   "source": []
  }
 ],
 "metadata": {
  "kernelspec": {
   "display_name": "reai",
   "language": "python",
   "name": "python3"
  },
  "language_info": {
   "codemirror_mode": {
    "name": "ipython",
    "version": 3
   },
   "file_extension": ".py",
   "mimetype": "text/x-python",
   "name": "python",
   "nbconvert_exporter": "python",
   "pygments_lexer": "ipython3",
   "version": "3.9.16"
  },
  "orig_nbformat": 4
 },
 "nbformat": 4,
 "nbformat_minor": 2
}
